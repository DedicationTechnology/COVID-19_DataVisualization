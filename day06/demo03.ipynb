{
 "cells": [
  {
   "cell_type": "code",
   "execution_count": 57,
   "metadata": {},
   "outputs": [
    {
     "name": "stdout",
     "output_type": "stream",
     "text": [
      "[4 4 8 8 2 2]\n",
      "[4 8 2 4 8 2]\n",
      "[2 4 8]\n"
     ]
    }
   ],
   "source": [
    "# import numpy as np\n",
    "# a = np.random.random((3, 3))  # 生成一个三行三列的随机数并存储在数组中\n",
    "# print(a)\n",
    "# np.save(\"./tmp/tmp.npy\", a)  # save方法可以保存文件为npy格式，前面为保存的路径，后面是要保存的数组\n",
    "# a.sort(axis = 0)  # sort方法可以对数组进行排序，axis值为1表示每一行进行排序，axis为0表示每一列进行排序\n",
    "# print(a)\n",
    "# b = np.array([4, 8, 2])\n",
    "# b.sort()  # 默认按顺序进行排列\n",
    "# print(b)\n",
    "# c = b.argsort()  # argsort方法进行排序，默认为顺序排序，返回的是对应数值的下标\n",
    "# print(c)\n",
    "# d = np.repeat(b, 2)  # repeat方法将每一个元素重复一次，这种重复为元素连续重复\n",
    "# print(d)\n",
    "# e = np.tile(b, 2)  # tile方法可以将一个数组按整个数组进行重复\n",
    "# print(e)\n",
    "# f = np.unique(e)  # unique方法可以将数组进行元素去重复操作  \n",
    "# print(f)"
   ]
  },
  {
   "cell_type": "code",
   "execution_count": 45,
   "metadata": {},
   "outputs": [],
   "source": [
    "# b = np.random.randn(2, 2)  # 随机生成一个两行两列的数组，数值可以为负数\n",
    "# print(b)\n",
    "# np.savez(\"./tmp/tmp2.npz\", a, b)  # savez方法可以将多个内容保存到一个文件下"
   ]
  },
  {
   "cell_type": "code",
   "execution_count": 46,
   "metadata": {},
   "outputs": [],
   "source": [
    "# a = np.load(\"./tmp/tmp.npy\")  # load方法可以直接提取npy的内容，但是无法直接读取npz的内容\n",
    "# print(a)\n",
    "# b = np.load(\"./tmp/tmp2.npz\")\n",
    "# c = b.files  # files方法可以查看npz文件下有几个内容\n",
    "# print(c)\n",
    "# d = b[\"arr_0\"]  # 使用索引可以查看对应的内容\n",
    "# print(d)"
   ]
  },
  {
   "cell_type": "code",
   "execution_count": 47,
   "metadata": {},
   "outputs": [],
   "source": [
    "# np.savetxt(\"./tmp/tmp3.txt\", a)  # savetxt可以将内容保存为txt文件的格式\n",
    "# np.loadtxt(\"./tmp/tmp3.txt\")  # loadtxt方法可以直接查看txt文件内容\n",
    "# np.genfromtxt(\"./tmp/tmp3.txt\")  # genfromtxt方法也可以直接查看txta文件内容"
   ]
  },
  {
   "cell_type": "markdown",
   "metadata": {},
   "source": [
    "#### 任务：读取数据并进行相关的操作"
   ]
  },
  {
   "cell_type": "code",
   "execution_count": 77,
   "metadata": {},
   "outputs": [
    {
     "name": "stdout",
     "output_type": "stream",
     "text": [
      "[4.3 4.4 4.5 4.6 4.7 4.8 4.9 5.  5.1 5.2 5.3 5.4 5.5 5.6 5.7 5.8 5.9 6.\n",
      " 6.1 6.2 6.3 6.4 6.5 6.6 6.7 6.8 6.9 7.  7.1 7.2 7.3 7.4 7.6 7.7 7.9]\n",
      "210.39999999999998\n",
      "[  4.3   8.7  13.2  17.8  22.5  27.3  32.2  37.2  42.3  47.5  52.8  58.2\n",
      "  63.7  69.3  75.   80.8  86.7  92.7  98.8 105.  111.3 117.7 124.2 130.8\n",
      " 137.5 144.3 151.2 158.2 165.3 172.5 179.8 187.2 194.8 202.5 210.4]\n",
      "6.011428571428571\n",
      "1.0289443768310533\n",
      "1.0587265306122449\n",
      "7.9\n",
      "4.3\n"
     ]
    }
   ],
   "source": [
    "import numpy as np\n",
    "data = np.loadtxt(\"./data/data/iris_sepal_length.csv\")  # 读取指定的文件\n",
    "data.sort()  # 按顺序序列进行排序\n",
    "data = np.unique(data)  # 进行去重操作\n",
    "print(data)\n",
    "count = np.sum(data)  # 对数组中的元素进行求和\n",
    "print(count)\n",
    "cumcount = np.cumsum(data)  # 对数组进行求累计和，就是元素依次相加\n",
    "print(cumcount)\n",
    "print(np.mean(data))  # 求平均值\n",
    "print(np.std(data))  # 求标准差\n",
    "print(np.var(data))  # 求方差\n",
    "print(np.max(data))  # 求最大值\n",
    "print(np.min(data))  # 求最小值"
   ]
  },
  {
   "cell_type": "code",
   "execution_count": null,
   "metadata": {},
   "outputs": [],
   "source": []
  }
 ],
 "metadata": {
  "kernelspec": {
   "display_name": "Python 3",
   "language": "python",
   "name": "python3"
  },
  "language_info": {
   "codemirror_mode": {
    "name": "ipython",
    "version": 3
   },
   "file_extension": ".py",
   "mimetype": "text/x-python",
   "name": "python",
   "nbconvert_exporter": "python",
   "pygments_lexer": "ipython3",
   "version": "3.7.6"
  }
 },
 "nbformat": 4,
 "nbformat_minor": 4
}
