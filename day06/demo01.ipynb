{
 "cells": [
  {
   "cell_type": "code",
   "execution_count": 62,
   "metadata": {},
   "outputs": [
    {
     "data": {
      "text/plain": [
       "'随机数的生成'"
      ]
     },
     "execution_count": 62,
     "metadata": {},
     "output_type": "execute_result"
    }
   ],
   "source": [
    "# import numpy as np\n",
    "\"\"\"用numpy模块中的array方法创建数组\"\"\"\n",
    "# a = np.array([1, 2, 3])  # 一维数组的创建\n",
    "# b = np.array([[1, 2, 3], [4, 5, 6]])  # 二维数组的创建\n",
    "# print(b.size)  # size用于输出数组中元素的个数，不是元素的尺寸\n",
    "# print(b.shape)  # shape用于输出数组是几行几列，这里输出的结果是(2, 3)表示有两行三列，就是元素的尺寸\n",
    "# print(b.ndim)  # ndim用于输出数组的维度，这里是二维数组所以输出结果为2\n",
    "# print(b.dtype)  # dtype用于输出数组的数据中数据的数据类型\n",
    "# print(b.reshape(3, 2))  # reshape方法用于将数组的类型进行转换，这里将b数组转化为3行2列\n",
    "# c = np.array([1, 2, 3]) \n",
    "# print(c.dtype)  # dtype方法用来查看数据类型\n",
    "\"\"\"使用numpy中的arrange方法创建数组\"\"\"\n",
    "# print(list(range(10)))  # range函数产生0——9的数字，然后放置到列表中，list函数用于创建列表\n",
    "# print(np.arange(10))  # range方法可以生成一个0~9的数组\n",
    "# \"\"\"linspace方法用于创建一个一维数组，数组是一个等差数列构成的\"\"\"\n",
    "# print(np.linspace(1, 10, 10))  # 第一个1表示起始值，第一个10表示终止值，第二个10表示样本数量，默认包括终止值\n",
    "\"\"\"logspace方法用于创建一个于等比数列\"\"\"\n",
    "# print(np.logspace(1, 10, 10, base = 3))  # base表示公比\n",
    "# print(np.zeros((2, 3)))  # 使用zeros方法创建一个2行3列的全零数组\n",
    "# print(np.zeros(2))  # 使用zeros方法创建一个一维数组，元素的个数为2\n",
    "# print(np.eye(3))  # 使用eye方法创建一个3阶单位数组\n",
    "# print(np.diag([1, 2, 3]))  # 使用diag方法创建一个对角线为1,2,3的正对角线数组\n",
    "# print(np.ones((4, 3)))  # 使用ones方法创建一个4行3列的全1数组\n",
    "# print(np.ones(2))  # 使用ones方法创建一个一维数组，元素的个数为2\n",
    "\"\"\"数据之间的类型转换\"\"\"\n",
    "# print(np.float(42))  # 使用np模块的float方法将其它类型的数据转换为浮点型，这里是将整型转换为浮点型\n",
    "# print(np.float(False))  # 使用np模块的float方法将其它类型的数据转换为浮点型，这里是将bool型转换为浮点型\n",
    "# print(np.int8(42.0))  # 使用np模块的int方法将其他类型转换为整型，这里为将浮点型转化为整型，至于int后面的数字大小决定了整型的表示范围\n",
    "# print(np.bool(42))  # 使用np模块的bool方法将其他类型转换为bool型，这里为将整型转换为bool型\n",
    "\"\"\"随机数的生成\"\"\"\n",
    "# print(np.random.random(size = 4))  # 使用np模块的random方法生成4个随机数并放入数组中，默认生成的随机数为0~1之间的浮点数，不包括1\n",
    "# print(np.random.random(size = (2, 3)))  # 生成一个2行3列的随机数组\n",
    "# print(np.random.rand(10, 5))  # 使用np模块的rand方法生成10行5列的随机数\n",
    "# print(np.random.rand(2, 3, 2))  # 生成一个3行2列的三维随机数组(就是两个3行2列的数组)\n",
    "# print(np.random.randint(2, 10, size = [3, 4]))  # 使用randint方法创建一个3行4列的整型数组，元素的取值范围从2~9\n",
    "# print(np.random.randn(2, 3, 2))  # 可以生成负数的随机数组    "
   ]
  },
  {
   "cell_type": "code",
   "execution_count": 80,
   "metadata": {},
   "outputs": [],
   "source": [
    "# a = np.arange(10)\n",
    "# print(a)\n",
    "# print(a[3])  # 输出下标为3的元素\n",
    "# print(a[3:])  # 输出从下标3开始之后的元素\n",
    "# print(a[:3])  # 输出下标为3之前的元素，不包括下标为3的元素\n",
    "# print(a[1: -1])  # 输出从下标为1开始到下标为-1的所有元素，默认是按正序的顺序进行输出，但不包括下标为-1的元素\n",
    "# print(a[1: -1 : 2])  # 最后一个2表示步长，就是下标为1的元素后面是下标为3的元素，依次类推"
   ]
  },
  {
   "cell_type": "code",
   "execution_count": 89,
   "metadata": {},
   "outputs": [],
   "source": [
    "# a = np.random.randint(0, 10, size = (2, 3))\n",
    "# print(a)\n",
    "# b = a[1, :]  # 取出下标为1的行数的全部元素，也就是第二行的所有元素\n",
    "# print(b)\n",
    "# c = a[:, 0]  # 输出每一行下标为0的元素，这里必须写:不能不写，不写会报错\n",
    "# print(c)\n",
    "# d = a[:, :-1:2]  # 输出每一行元素中从开始到最后一个元素，步长为2，不包括最后一个元素\n",
    "# print(d)\n",
    "# e = a[:, ::2]  # 输出每一行元素中从开始到最后一个元素，步长为2，包括最后一个元素\n",
    "# print(e)\n",
    "# f = a.ravel()  # ravel方法用于将数组转化为一维数组，ravel方法就是展平(横向展平)\n",
    "# print(f)\n",
    "# g = a.flatten()  # flatten方法默认为横向展平数组\n",
    "# print(g)\n",
    "# h = a.flatten(order = \"F\")  # order后的参数为F表示纵向展平数组\n",
    "# print(h)"
   ]
  },
  {
   "cell_type": "code",
   "execution_count": 104,
   "metadata": {},
   "outputs": [
    {
     "data": {
      "text/plain": [
       "'split方法可以进行横向切割和纵向切割，axis=1表示横向切割，axis=0表示纵向切割'"
      ]
     },
     "execution_count": 104,
     "metadata": {},
     "output_type": "execute_result"
    }
   ],
   "source": [
    "# import numpy as np\n",
    "# a = np.arange(10).reshape(5, 2)\n",
    "# print(a)\n",
    "# 创建一个从0开始到1元素共10个的等差数列，不包括1，就是将0~1分成10等份，取前9份\n",
    "# b = np.linspace(0, 1, endpoint = False, num = 10).reshape(5, 2)  # endpoint为false表示不包括1\n",
    "# print(b)\n",
    "# c = np.vstack((a, b))  # vstack方法可以将两个元组直接上下堆叠形成新的数组(纵向堆叠)\n",
    "# print(c)\n",
    "\"\"\"concatenate方法也可以将两个元组进行上下堆叠(纵向堆叠)和左右堆叠(横向堆叠)形成新的数组\n",
    "axis = 0表示纵向堆叠，axis = 1表示横向堆叠\"\"\"\n",
    "# d = np.concatenate((a, b), axis = 0)  # 纵向堆叠  \n",
    "# print(d)\n",
    "# c = np.hstack((a, b))  # hstack方法可以将两个元组直接左右堆叠形成新的数组(横向堆叠)\n",
    "# print(c)\n",
    "# c = np.concatenate((a, b), axis = 1)  # 横向堆叠\n",
    "# print(c)\n",
    "# b = np.hsplit(a, 2)  # hsplit可以将一个数组进行横向切割，注意这里的横向切割是竖着切，2表示竖着切割成几份\n",
    "# print(b)\n",
    "# b = np.vsplit(a, 5)  # vsplit可以将一个数组进行纵向切割，注意这里的纵向切割是横着切，5表示横着切割成几份\n",
    "# print(b)\n",
    "\"\"\"split方法可以进行横向切割和纵向切割，axis=1表示横向切割，axis=0表示纵向切割\"\"\"\n",
    "# b = np.split(a, 2, axis = 1)  \n",
    "# print(b)\n",
    "# c = np.split(a, 5, axis = 0)\n",
    "# print(c)"
   ]
  },
  {
   "cell_type": "code",
   "execution_count": null,
   "metadata": {},
   "outputs": [],
   "source": []
  }
 ],
 "metadata": {
  "kernelspec": {
   "display_name": "Python 3",
   "language": "python",
   "name": "python3"
  },
  "language_info": {
   "codemirror_mode": {
    "name": "ipython",
    "version": 3
   },
   "file_extension": ".py",
   "mimetype": "text/x-python",
   "name": "python",
   "nbconvert_exporter": "python",
   "pygments_lexer": "ipython3",
   "version": "3.7.6"
  }
 },
 "nbformat": 4,
 "nbformat_minor": 4
}
