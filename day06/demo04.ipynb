{
 "cells": [
  {
   "cell_type": "code",
   "execution_count": 7,
   "metadata": {},
   "outputs": [
    {
     "data": {
      "text/plain": [
       "array([19, 18, 17, 16, 15, 14, 13, 12, 11, 10])"
      ]
     },
     "execution_count": 7,
     "metadata": {},
     "output_type": "execute_result"
    }
   ],
   "source": [
    "import numpy as np\n",
    "a = np.arange(10, 20)\n",
    "a[::-1]  # 表示从最后一个元素开始往前进行输出"
   ]
  },
  {
   "cell_type": "code",
   "execution_count": 9,
   "metadata": {},
   "outputs": [
    {
     "name": "stdout",
     "output_type": "stream",
     "text": [
      "<class 'NoneType'>\n"
     ]
    }
   ],
   "source": [
    "def f():\n",
    "    pass\n",
    "print(type(f()))  # type的参数是函数的返回值，函数的返回值为空，所结果为NoneType"
   ]
  },
  {
   "cell_type": "code",
   "execution_count": 17,
   "metadata": {},
   "outputs": [
    {
     "name": "stdout",
     "output_type": "stream",
     "text": [
      "[[ 0.          0.14284985  0.28569971 ... 13.85643591 13.99928577\n",
      "  14.14213562]\n",
      " [ 0.14284985  0.          0.14284985 ... 13.71358606 13.85643591\n",
      "  13.99928577]\n",
      " [ 0.28569971  0.14284985  0.         ... 13.5707362  13.71358606\n",
      "  13.85643591]\n",
      " ...\n",
      " [13.85643591 13.71358606 13.5707362  ...  0.          0.14284985\n",
      "   0.28569971]\n",
      " [13.99928577 13.85643591 13.71358606 ...  0.14284985  0.\n",
      "   0.14284985]\n",
      " [14.14213562 13.99928577 13.85643591 ...  0.28569971  0.14284985\n",
      "   0.        ]]\n"
     ]
    }
   ],
   "source": [
    "\"\"\"练习1：生成100个二维坐标点，然后计算任意两点之间的距离\"\"\"\n",
    "import numpy as np\n",
    "x = np.linspace(0,10,100)  # 创建一个横坐标等差数组\n",
    "y = np.linspace(0,10,100)  # 创建一个纵坐标等差数组\n",
    "distance = []  # 创建一个空列表用于存放两点之间的距离\n",
    "for i in np.arange(100):\n",
    "    for j in np.arange(100):  # 先求第一个点与其他点的距离，然后依次求其它点\n",
    "        a = np.sqrt((x[i] - x[j]) ** 2 + (y[i] - y[j]) ** 2)  # 两点之间的距离计算\n",
    "        distance.append(a)  # 将所求的距离结果放入列表中\n",
    "distance = np.matrix(distance)  # 将列表转化为矩阵\n",
    "distance = distance.reshape(100,100)  # 转换为100行100列的矩阵\n",
    "print(distance)"
   ]
  },
  {
   "cell_type": "code",
   "execution_count": null,
   "metadata": {},
   "outputs": [],
   "source": []
  }
 ],
 "metadata": {
  "kernelspec": {
   "display_name": "Python 3",
   "language": "python",
   "name": "python3"
  },
  "language_info": {
   "codemirror_mode": {
    "name": "ipython",
    "version": 3
   },
   "file_extension": ".py",
   "mimetype": "text/x-python",
   "name": "python",
   "nbconvert_exporter": "python",
   "pygments_lexer": "ipython3",
   "version": "3.7.6"
  }
 },
 "nbformat": 4,
 "nbformat_minor": 4
}
