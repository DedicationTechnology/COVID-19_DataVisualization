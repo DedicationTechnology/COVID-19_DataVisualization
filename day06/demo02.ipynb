{
 "cells": [
  {
   "cell_type": "code",
   "execution_count": 7,
   "metadata": {},
   "outputs": [],
   "source": [
    "# import numpy as np\n",
    "# a = np.mat(\"1 2; 4 5\")  # mat方法用于创建一个矩阵，这里创建了一个二阶矩阵\n",
    "# print(a)\n",
    "# b = np.matrix([[11, 22], [44, 55]])  # matrix方法用于创建一个矩阵，这里创建了一个二阶矩阵\n",
    "# print(b)\n",
    "# c = np.bmat(\"a b\")  # bmat方法可以将两个矩阵进行拼接，默认是左右拼接\n",
    "# print(c)\n",
    "# d = np.bmat(\"a b; b a\")  # ;后面的内容为在下面进行拼接\n",
    "# print(d)\n",
    "# c = np.array(a) * np.array(b)  # 两个数组相乘，结果为对应位置元素相乘\n",
    "# print(c)\n",
    "# d = np.matrix(a) * np.matrix(b)  # 两个矩阵相乘\n",
    "# print(d)\n",
    "# c = np.matrix(a).I  # I用来返回自身的逆矩阵\n",
    "# print(c)\n",
    "# d = np.matrix(a).T  # T用来返回自身的转置矩阵\n",
    "# print(d)\n",
    "# e = np.matrix(a).A  # A用来返回对应的二维数组的一个视图\n",
    "# print(e)"
   ]
  },
  {
   "cell_type": "code",
   "execution_count": 25,
   "metadata": {},
   "outputs": [],
   "source": [
    "# import numpy as np\n",
    "# a = np.matrix([[1, 2], [3, 4]])\n",
    "# print(a)\n",
    "# b = np.array(a) ** 2  # 对矩阵中的元素进行平方操作然后输出为一个数组\n",
    "# print(b)\n",
    "# a = [[0] * 3, [1] * 3, [2] * 3]\n",
    "# print(a)\n",
    "# b = np.array(a)  # 将创建的列表转换为一个数组\n",
    "# print(b)\n",
    "# c = np.array(a) + np.array([1, 2, 3])  # 将数组a中每一行对应的元素分别加123\n",
    "# print(c)\n",
    "# d = np.array(a) + np.array([[1], [2], [3]])  # 将数组a中第一行所有元素都加1，第二行所有元素都加2，依次类推\n",
    "# print(d)"
   ]
  },
  {
   "cell_type": "code",
   "execution_count": null,
   "metadata": {},
   "outputs": [],
   "source": []
  }
 ],
 "metadata": {
  "kernelspec": {
   "display_name": "Python 3",
   "language": "python",
   "name": "python3"
  },
  "language_info": {
   "codemirror_mode": {
    "name": "ipython",
    "version": 3
   },
   "file_extension": ".py",
   "mimetype": "text/x-python",
   "name": "python",
   "nbconvert_exporter": "python",
   "pygments_lexer": "ipython3",
   "version": "3.7.6"
  }
 },
 "nbformat": 4,
 "nbformat_minor": 4
}
