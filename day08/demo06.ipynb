{
 "cells": [
  {
   "cell_type": "code",
   "execution_count": 150,
   "metadata": {},
   "outputs": [
    {
     "name": "stdout",
     "output_type": "stream",
     "text": [
      "50\n",
      "39237.02\n"
     ]
    },
    {
     "data": {
      "text/plain": [
       "item_cost    21.394231\n",
       "dtype: float64"
      ]
     },
     "execution_count": 150,
     "metadata": {},
     "output_type": "execute_result"
    }
   ],
   "source": [
    "# 探索快餐数据\n",
    "import pandas as pd\n",
    "\"\"\"tsv文件的读取方式\"\"\"\n",
    "chipo = pd.read_csv(\"./tmp/chipotle.tsv\", encoding=\"gbk\", sep=\"\\t\")\n",
    "chipo.head(10)\n",
    "# 得到列数，shape可以得到几行几列\n",
    "chipo.shape[1]\n",
    "chipo.columns\n",
    "chipo.index\n",
    "# data1 = chipo[['item_name','quantity']].groupby(['item_name']).agg({'quantity':sum})\n",
    "# data1 = data1.sort_values(['quantity'],ascending=False)\n",
    "\"\"\"ascending=False表示倒叙排序\"\"\"\n",
    "chipo.groupby(by=\"item_name\").agg({\"quantity\":sum}).sort_values(by=\"quantity\", ascending=False)\n",
    "# print(chipo['item_name'].unique().shape)\n",
    "\"\"\"numique可以返回去重后的数值\"\"\"\n",
    "print(chipo[\"item_name\"].nunique())\n",
    "chipo['quantity'].sum()\n",
    "# chipo['item_price'] = chipo['item_price'].agg(lambda x: float(x[1:-1]))\n",
    "\"\"\"将字符串下标为1及之后的部分转化为浮点型\"\"\"\n",
    "chipo[\"item_price\"] = chipo[\"item_price\"].str[1:].astype(float)\n",
    "# chipo['sub_total'] = round(chipo['item_price'] * chipo['quantity'],2)\n",
    "print((chipo[\"item_price\"] * chipo[\"quantity\"]).sum())\n",
    "# chipo['sub_total'].sum()\n",
    "chipo['order_id'].nunique()\n",
    "# len(chipo[\"order_id\"].unique())\n",
    "# chipo[['order_id','sub_total']].groupby(by=['order_id']).agg({'sub_total':'sum'})['sub_total'].mean()\n",
    "chipo[\"item_cost\"] = chipo[\"quantity\"] * chipo[\"item_price\"]\n",
    "chipo.groupby(by=\"order_id\").agg({\"item_cost\":sum}).mean()\n",
    "\n"
   ]
  },
  {
   "cell_type": "code",
   "execution_count": null,
   "metadata": {},
   "outputs": [],
   "source": []
  },
  {
   "cell_type": "code",
   "execution_count": null,
   "metadata": {},
   "outputs": [],
   "source": []
  }
 ],
 "metadata": {
  "kernelspec": {
   "display_name": "Python 3",
   "language": "python",
   "name": "python3"
  },
  "language_info": {
   "codemirror_mode": {
    "name": "ipython",
    "version": 3
   },
   "file_extension": ".py",
   "mimetype": "text/x-python",
   "name": "python",
   "nbconvert_exporter": "python",
   "pygments_lexer": "ipython3",
   "version": "3.7.6"
  }
 },
 "nbformat": 4,
 "nbformat_minor": 4
}
