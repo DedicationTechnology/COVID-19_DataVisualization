{
 "cells": [
  {
   "cell_type": "code",
   "execution_count": 15,
   "metadata": {
    "scrolled": false
   },
   "outputs": [
    {
     "name": "stdout",
     "output_type": "stream",
     "text": [
      "object\n"
     ]
    },
    {
     "data": {
      "text/plain": [
       "Timestamp('2262-04-11 23:47:16.854775807')"
      ]
     },
     "execution_count": 15,
     "metadata": {},
     "output_type": "execute_result"
    }
   ],
   "source": [
    "import pandas as pd\n",
    "data = pd.read_csv(\"../day06/data/data/meal_order_info.csv\", encoding=\"gbk\")\n",
    "data[\"lock_time\"] = pd.to_datetime(data[\"lock_time\"])  # dtype: object表示数据 me方法可以转换数据为时间格式\n",
    "pd.Timestamp.min  # 看时间戳的最小值\n",
    "pd.Timestamp.max  # 看时间戳的最大值\n",
    "# pd.DatetimeIndex(data[\"use_start_time\"])  # DatetimeIndex方法将时间类型转换为DatetimeIndex类型\n",
    "# a = data.loc[0, \"lock_time\"]\n",
    "# print(a)\n",
    "# a.year  # 直接提取年份\n",
    "# a.dayofyear  # dayofyear可以返回日期是一年中的第几天\n",
    "# data[\"lock_time\"] + pd.Timedelta(days=1, seconds=1)  # days属性可以将日期往后移，seconds属性可以将秒往后移\n",
    "# print(data[\"lock_time\"])\n",
    "# pd.to_datetime(\"2017-08-01 11:11:47\") - data[\"lock_time\"]  # 可以计算出两个时间段之间差了多少"
   ]
  },
  {
   "cell_type": "code",
   "execution_count": null,
   "metadata": {},
   "outputs": [],
   "source": []
  }
 ],
 "metadata": {
  "kernelspec": {
   "display_name": "Python 3",
   "language": "python",
   "name": "python3"
  },
  "language_info": {
   "codemirror_mode": {
    "name": "ipython",
    "version": 3
   },
   "file_extension": ".py",
   "mimetype": "text/x-python",
   "name": "python",
   "nbconvert_exporter": "python",
   "pygments_lexer": "ipython3",
   "version": "3.7.6"
  }
 },
 "nbformat": 4,
 "nbformat_minor": 4
}
