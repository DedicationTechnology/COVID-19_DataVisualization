{
 "cells": [
  {
   "cell_type": "code",
   "execution_count": 2,
   "metadata": {
    "collapsed": true
   },
   "outputs": [
    {
     "name": "stdout",
     "output_type": "stream",
     "text": [
      "状态码为: 200\n",
      "编码格式为: gbk\n",
      "请求头为: {'Connection': 'close', 'Transfer-Encoding': 'chunked', 'Cache-Control': 'no-store, no-cache, must-revalidate, post-check=0, pre-check=0', 'Content-Type': 'text/html; charset=gbk', 'Date': 'Mon, 20 Jul 2020 09:43:04 GMT', 'Expires': 'Thu, 19 Nov 1981 08:52:00 GMT', 'Pragma': 'no-cache', 'Server': 'Apache', 'Set-Cookie': 'PHPSESSID=ovhq3s0i5svdv2jickj4tual34; path=/'}\n"
     ]
    }
   ],
   "source": [
    "import requests\n",
    "url = \"http://shixi.com/\"\n",
    "rq = requests.get(url)\n",
    "print(\"状态码为:\", rq.status_code)\n",
    "print(\"编码格式为:\", rq.encoding)\n",
    "print(\"请求头为:\", rq.headers)"
   ]
  },
  {
   "cell_type": "code",
   "execution_count": 118,
   "metadata": {},
   "outputs": [
    {
     "data": {
      "text/html": [
       "<div>\n",
       "<style scoped>\n",
       "    .dataframe tbody tr th:only-of-type {\n",
       "        vertical-align: middle;\n",
       "    }\n",
       "\n",
       "    .dataframe tbody tr th {\n",
       "        vertical-align: top;\n",
       "    }\n",
       "\n",
       "    .dataframe thead th {\n",
       "        text-align: right;\n",
       "    }\n",
       "</style>\n",
       "<table border=\"1\" class=\"dataframe\">\n",
       "  <thead>\n",
       "    <tr style=\"text-align: right;\">\n",
       "      <th></th>\n",
       "      <th>职位</th>\n",
       "      <th>地址</th>\n",
       "      <th>学历要求</th>\n",
       "      <th>工资</th>\n",
       "    </tr>\n",
       "  </thead>\n",
       "  <tbody>\n",
       "    <tr>\n",
       "      <th>0</th>\n",
       "      <td>羽西文化咨询有限公司招聘公关实习</td>\n",
       "      <td>美国/纽约</td>\n",
       "      <td>本科</td>\n",
       "      <td>面议</td>\n",
       "    </tr>\n",
       "    <tr>\n",
       "      <th>1</th>\n",
       "      <td>美国实习岗位-视频音频编辑制作/新媒体</td>\n",
       "      <td>美国/纽约</td>\n",
       "      <td>本科</td>\n",
       "      <td>面议</td>\n",
       "    </tr>\n",
       "    <tr>\n",
       "      <th>2</th>\n",
       "      <td>美国实习岗位-法律</td>\n",
       "      <td>美国/纽约</td>\n",
       "      <td>本科</td>\n",
       "      <td>面议</td>\n",
       "    </tr>\n",
       "    <tr>\n",
       "      <th>3</th>\n",
       "      <td>美国实习岗位-平面设计和网页设计开发</td>\n",
       "      <td>美国/纽约</td>\n",
       "      <td>本科</td>\n",
       "      <td>面议</td>\n",
       "    </tr>\n",
       "    <tr>\n",
       "      <th>4</th>\n",
       "      <td>Marketing Intern</td>\n",
       "      <td>美国/纽约</td>\n",
       "      <td>本科</td>\n",
       "      <td>面议</td>\n",
       "    </tr>\n",
       "    <tr>\n",
       "      <th>5</th>\n",
       "      <td>Sales Associate</td>\n",
       "      <td>美国/纽约</td>\n",
       "      <td>本科</td>\n",
       "      <td>面议</td>\n",
       "    </tr>\n",
       "    <tr>\n",
       "      <th>6</th>\n",
       "      <td>UI Designer</td>\n",
       "      <td>美国/纽约</td>\n",
       "      <td>本科</td>\n",
       "      <td>面议</td>\n",
       "    </tr>\n",
       "    <tr>\n",
       "      <th>7</th>\n",
       "      <td>Marketing Analyst</td>\n",
       "      <td>美国/纽约</td>\n",
       "      <td>本科</td>\n",
       "      <td>面议</td>\n",
       "    </tr>\n",
       "    <tr>\n",
       "      <th>8</th>\n",
       "      <td>Blockchain Analyst Intern</td>\n",
       "      <td>美国/纽约</td>\n",
       "      <td>本科</td>\n",
       "      <td>面议</td>\n",
       "    </tr>\n",
       "    <tr>\n",
       "      <th>9</th>\n",
       "      <td>Investment Analyst Intern</td>\n",
       "      <td>美国/纽约</td>\n",
       "      <td>本科</td>\n",
       "      <td>面议</td>\n",
       "    </tr>\n",
       "  </tbody>\n",
       "</table>\n",
       "</div>"
      ],
      "text/plain": [
       "                           职位     地址 学历要求  工资\n",
       "0           羽西文化咨询有限公司招聘公关实习   美国/纽约   本科  面议\n",
       "1        美国实习岗位-视频音频编辑制作/新媒体   美国/纽约   本科  面议\n",
       "2                  美国实习岗位-法律   美国/纽约   本科  面议\n",
       "3         美国实习岗位-平面设计和网页设计开发   美国/纽约   本科  面议\n",
       "4           Marketing Intern   美国/纽约   本科  面议\n",
       "5            Sales Associate   美国/纽约   本科  面议\n",
       "6                UI Designer   美国/纽约   本科  面议\n",
       "7          Marketing Analyst   美国/纽约   本科  面议\n",
       "8  Blockchain Analyst Intern   美国/纽约   本科  面议\n",
       "9  Investment Analyst Intern   美国/纽约   本科  面议"
      ]
     },
     "execution_count": 118,
     "metadata": {},
     "output_type": "execute_result"
    }
   ],
   "source": [
    "from bs4 import BeautifulSoup\n",
    "import pandas as pd\n",
    "soup = BeautifulSoup(rq.content, \"lxml\")\n",
    "tmp = soup.select(\"body > div.container-fluid > div.page-con > div:nth-child(3) > div.page-panel-tab > div\")\n",
    "title = [i.string for i in tmp[0].find_all(\"span\", class_=\"title\")]\n",
    "address = [i.string for i in tmp[0].find_all(\"span\", class_=\"address\")]\n",
    "degree = [i.string for i in tmp[0].find_all(\"span\", class_=\"degree\")]\n",
    "money = [i.string for i in tmp[0].find_all(\"span\", class_=\"money\")]\n",
    "pd.DataFrame({\"职位\":title, \"地址\":address, \"学历要求\":degree, \"工资\":money})"
   ]
  },
  {
   "cell_type": "code",
   "execution_count": null,
   "metadata": {},
   "outputs": [],
   "source": []
  }
 ],
 "metadata": {
  "kernelspec": {
   "display_name": "Python 3",
   "language": "python",
   "name": "python3"
  },
  "language_info": {
   "codemirror_mode": {
    "name": "ipython",
    "version": 3
   },
   "file_extension": ".py",
   "mimetype": "text/x-python",
   "name": "python",
   "nbconvert_exporter": "python",
   "pygments_lexer": "ipython3",
   "version": "3.7.6"
  }
 },
 "nbformat": 4,
 "nbformat_minor": 4
}
