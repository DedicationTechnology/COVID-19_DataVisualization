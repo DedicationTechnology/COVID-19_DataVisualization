{
 "cells": [
  {
   "cell_type": "code",
   "execution_count": 46,
   "metadata": {},
   "outputs": [
    {
     "data": {
      "text/plain": [
       "(102, 8)"
      ]
     },
     "execution_count": 46,
     "metadata": {},
     "output_type": "execute_result"
    }
   ],
   "source": [
    "from sklearn.datasets import load_boston\n",
    "import numpy as np\n",
    "data = load_boston()  # load_boston函数返回的是一个字典\n",
    "data.keys()  # 通过keys方法得到字典中所有的键\n",
    "data[\"data\"]  # 通过键来访问具体的值\n",
    "# 数据集的拆分(拆分为数据集和测试集)\n",
    "from sklearn.model_selection import train_test_split\n",
    "# 前两个属性表示要拆分的数据集，test_size=0.2表示将20%的数据作为测试集，会返回四个数组，分别表示个自的数据集和测试集\n",
    "data_data, data_test, target_data, target_test = train_test_split(data[\"data\"], data[\"target\"], test_size=0.2)\n",
    "target_data.shape  # (404,)表示404行1列\n",
    "# sklearn转换器\n",
    "from sklearn.preprocessing import MinMaxScaler\n",
    "\"\"\"MinMaxScaler()表示对特征进行离差标准化，fit(data_data)表示要进行离差标准的数据，但不改变原始数据,这是一个特征提取，表示model用于实现这个功能,\n",
    "fit用于训练算法\"\"\"\n",
    "model = MinMaxScaler().fit(data_data)  \n",
    "data_data_mms = model.transform(data_data)  # transform用于对原始数据进行修改，model是进行修改的标准，这里就是按MinMaxScaler()标准\n",
    "data_test_mms = model.transform(data_test)  # 对data_test数据按照model标准进行修改并赋值给data_test_mms\n",
    "# PCA降维方法\n",
    "from sklearn.decomposition import PCA\n",
    "model = PCA(n_components=8).fit(data_data_mms)  # n_components=8表示要降成多少维，这里为降到8列，model是一种特征提取\n",
    "data_data_mms = model.transform(data_data_mms)\n",
    "data_test_mms = model.transform(data_test_mms)"
   ]
  },
  {
   "cell_type": "code",
   "execution_count": null,
   "metadata": {},
   "outputs": [],
   "source": []
  }
 ],
 "metadata": {
  "kernelspec": {
   "display_name": "Python 3",
   "language": "python",
   "name": "python3"
  },
  "language_info": {
   "codemirror_mode": {
    "name": "ipython",
    "version": 3
   },
   "file_extension": ".py",
   "mimetype": "text/x-python",
   "name": "python",
   "nbconvert_exporter": "python",
   "pygments_lexer": "ipython3",
   "version": "3.7.6"
  }
 },
 "nbformat": 4,
 "nbformat_minor": 4
}
