{
 "cells": [
  {
   "cell_type": "code",
   "execution_count": 8,
   "metadata": {},
   "outputs": [
    {
     "data": {
      "image/png": "[encoded data removed]",
      "text/plain": [
       "<Figure size 432x288 with 1 Axes>"
      ]
     },
     "metadata": {
      "needs_background": "light"
     },
     "output_type": "display_data"
    },
    {
     "name": "stdout",
     "output_type": "stream",
     "text": [
      "2 0.681046169211746\n",
      "3 0.5528190123564091\n",
      "4 0.4980505049972867\n",
      "5 0.4887488870931048\n",
      "6 0.3648340039670018\n",
      "7 0.3563317372720714\n",
      "8 0.3477684961693679\n"
     ]
    }
   ],
   "source": [
    "# 构建并评价聚类模型\n",
    "from sklearn.datasets import load_iris\n",
    "from sklearn.cluster import KMeans\n",
    "import matplotlib.pyplot as plt\n",
    "data = load_iris()\n",
    "model = KMeans(n_clusters = 3).fit(data[\"data\"])  # 模型的构建，fit后跟训练集，n_clusters属性表示分成多少类\n",
    "model.labels_  # 求训练模型的标签(这里为聚类标签)\n",
    "model.cluster_centers_  # 求训练模型的聚类中心点\n",
    "# 绘制聚类训练模型的散点图\n",
    "for i in range(3):\n",
    "    # [model.labels_ == i, 0]分别表示行和列，0是列名\n",
    "    plt.scatter(data[\"data\"][model.labels_ == i, 0], data[\"data\"][model.labels_ == i, 1])\n",
    "plt.show()\n",
    "# 聚类模型的评价标准\n",
    "# 轮廓系数评价法评定聚类的效果\n",
    "from sklearn.metrics import silhouette_score\n",
    "silhouette_score(data[\"data\"], model.labels_)  # 第一个属性表示用于聚类的数据集，第二个属性表示聚类后的标签，结果\n",
    "# 寻找最佳的分类是分成多少类\n",
    "for k in range(2, 9):\n",
    "    model = KMeans(n_clusters = k).fit(data[\"data\"])\n",
    "    print(k, silhouette_score(data[\"data\"], model.labels_))"
   ]
  },
  {
   "cell_type": "code",
   "execution_count": null,
   "metadata": {},
   "outputs": [],
   "source": []
  }
 ],
 "metadata": {
  "kernelspec": {
   "display_name": "Python 3",
   "language": "python",
   "name": "python3"
  },
  "language_info": {
   "codemirror_mode": {
    "name": "ipython",
    "version": 3
   },
   "file_extension": ".py",
   "mimetype": "text/x-python",
   "name": "python",
   "nbconvert_exporter": "python",
   "pygments_lexer": "ipython3",
   "version": "3.7.6"
  }
 },
 "nbformat": 4,
 "nbformat_minor": 4
}
