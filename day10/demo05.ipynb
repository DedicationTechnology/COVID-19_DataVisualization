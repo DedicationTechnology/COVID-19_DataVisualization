{
 "cells": [
  {
   "cell_type": "markdown",
   "metadata": {},
   "source": [
    "#### 鸢尾花数据操作"
   ]
  },
  {
   "cell_type": "code",
   "execution_count": 57,
   "metadata": {},
   "outputs": [
    {
     "name": "stdout",
     "output_type": "stream",
     "text": [
      "(150, 4)\n"
     ]
    }
   ],
   "source": [
    "# 导入数据集\n",
    "from sklearn.datasets import load_iris\n",
    "iris = load_iris()\n",
    "iris_data = iris[\"data\"]\n",
    "iris_target = iris[\"target\"]\n",
    "iris_names = iris[\"feature_names\"]"
   ]
  },
  {
   "cell_type": "code",
   "execution_count": 62,
   "metadata": {},
   "outputs": [],
   "source": [
    "# 标准化处理\n",
    "from sklearn.preprocessing import MinMaxScaler\n",
    "handle = MinMaxScaler().fit(iris_data)  # fit用于训练模型\n",
    "iris_data_mms = handle.transform(iris_data)"
   ]
  },
  {
   "cell_type": "code",
   "execution_count": 35,
   "metadata": {
    "collapsed": true
   },
   "outputs": [
    {
     "data": {
      "text/plain": [
       "(150, 4)"
      ]
     },
     "execution_count": 35,
     "metadata": {},
     "output_type": "execute_result"
    }
   ],
   "source": [
    "# 模型的构建\n",
    "from sklearn.cluster import KMeans\n",
    "model = KMeans(n_clusters = 3, random_state=123).fit(iris_data_mms)"
   ]
  },
  {
   "cell_type": "code",
   "execution_count": 73,
   "metadata": {},
   "outputs": [
    {
     "name": "stdout",
     "output_type": "stream",
     "text": [
      "TSNE(random_state=123)\n"
     ]
    },
    {
     "data": {
      "image/png": "[encoded data removed]",
      "text/plain": [
       "<Figure size 576x432 with 1 Axes>"
      ]
     },
     "metadata": {
      "needs_background": "light"
     },
     "output_type": "display_data"
    }
   ],
   "source": [
    "# 可视化展示\n",
    "import matplotlib.pyplot as plt\n",
    "from sklearn.manifold import TSNE  \n",
    "import pandas as pd\n",
    "# 利用TSNE函数进行降维\n",
    "tsen = TSNE(n_components=2,init=\"random\",random_state=123).fit(iris_data)\n",
    "print(tsen)\n",
    "# 将原始数据转化为数据框\n",
    "df = pd.DataFrame(tsen.embedding_)\n",
    "# 将聚类结果放在表格中\n",
    "df[\"label\"] = model.labels_  # lobels_方法可以得到聚类后的标签\n",
    "# 绘图\n",
    "df1 = df[df[\"label\"]==0]\n",
    "df2 = df[df[\"label\"]==1]\n",
    "df3 = df[df[\"label\"]==2]\n",
    "fig = plt.figure(figsize=(8, 6))\n",
    "plt.plot(df1[0], \"r+\", df2[0], \"bo\", df3[0], \"gD\")\n",
    "plt.show()"
   ]
  },
  {
   "cell_type": "code",
   "execution_count": 74,
   "metadata": {},
   "outputs": [
    {
     "name": "stdout",
     "output_type": "stream",
     "text": [
      "iris数据集聚类聚成2类,FMI分值为0.750473\n",
      "iris数据集聚类聚成3类,FMI分值为0.820808\n",
      "iris数据集聚类聚成4类,FMI分值为0.756593\n",
      "iris数据集聚类聚成5类,FMI分值为0.725483\n",
      "iris数据集聚类聚成6类,FMI分值为0.602441\n",
      "iris数据集聚类聚成2类,指数分值为513.924546\n",
      "iris数据集聚类聚成3类,指数分值为561.627757\n",
      "iris数据集聚类聚成4类,指数分值为530.765808\n",
      "iris数据集聚类聚成5类,指数分值为495.541488\n",
      "iris数据集聚类聚成6类,指数分值为473.850607\n",
      "iris数据集聚类聚成7类,指数分值为448.116681\n",
      "iris数据集聚类聚成8类,指数分值为439.483386\n",
      "iris数据集聚类聚成9类,指数分值为411.545963\n",
      "iris数据集聚类聚成10类,指数分值为391.371083\n",
      "iris数据集聚类聚成11类,指数分值为371.022306\n",
      "iris数据集聚类聚成12类,指数分值为361.460274\n",
      "iris数据集聚类聚成13类,指数分值为352.929463\n",
      "iris数据集聚类聚成14类,指数分值为348.645969\n"
     ]
    },
    {
     "data": {
      "image/png": "[encoded data removed]",
      "text/plain": [
       "<Figure size 432x288 with 1 Axes>"
      ]
     },
     "metadata": {
      "needs_background": "light"
     },
     "output_type": "display_data"
    }
   ],
   "source": [
    "# 模型的评价\n",
    "# # FMI评价\n",
    "from sklearn.metrics import fowlkes_mallows_score\n",
    "for i in range(2, 7):\n",
    "    model = KMeans(n_clusters=i, random_state=42).fit(iris_data)\n",
    "    score = fowlkes_mallows_score(iris_target, model.labels_)  # iris_target中是正确的分类，model.labels_是根据模型得到的分类\n",
    "    print(\"iris数据集聚类聚成%d类,FMI分值为%f\" % (i, score))\n",
    "# # 指数评价\n",
    "from sklearn.metrics import calinski_harabasz_score\n",
    "score1 = []\n",
    "for i in range(2, 15):\n",
    "    model = KMeans(n_clusters=i, random_state=42).fit(iris_data)\n",
    "    score = calinski_harabasz_score(iris_data, model.labels_)\n",
    "    print(\"iris数据集聚类聚成%d类,指数分值为%f\" % (i, score))\n",
    "    score1.append(score)\n",
    "score1\n",
    "plt.plot(range(2, 15), score1)\n",
    "plt.show()\n",
    "# 三类时峰值最高，三类最好"
   ]
  },
  {
   "cell_type": "code",
   "execution_count": null,
   "metadata": {},
   "outputs": [],
   "source": []
  }
 ],
 "metadata": {
  "kernelspec": {
   "display_name": "Python 3",
   "language": "python",
   "name": "python3"
  },
  "language_info": {
   "codemirror_mode": {
    "name": "ipython",
    "version": 3
   },
   "file_extension": ".py",
   "mimetype": "text/x-python",
   "name": "python",
   "nbconvert_exporter": "python",
   "pygments_lexer": "ipython3",
   "version": "3.7.6"
  }
 },
 "nbformat": 4,
 "nbformat_minor": 4
}
