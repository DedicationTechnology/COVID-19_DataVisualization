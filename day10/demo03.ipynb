{
 "cells": [
  {
   "cell_type": "markdown",
   "metadata": {},
   "source": [
    "#### 构建并评价分类模型"
   ]
  },
  {
   "cell_type": "code",
   "execution_count": 5,
   "metadata": {},
   "outputs": [],
   "source": [
    "# 数据导入\n",
    "from sklearn.datasets import load_breast_cancer  # load_breast_cancer是一个乳腺癌数据集，datasets中多个已封装的数据集\n",
    "data = load_breast_cancer()  # 获取数据\n",
    "x = data[\"data\"]  # x表示输入\n",
    "y = data[\"target\"]  # y表示输出"
   ]
  },
  {
   "cell_type": "code",
   "execution_count": 6,
   "metadata": {},
   "outputs": [],
   "source": [
    "# 数据划分\n",
    "from sklearn.model_selection import train_test_split\n",
    "x_train, x_test, y_train, y_test = train_test_split(x, y, test_size=0.2)"
   ]
  },
  {
   "cell_type": "code",
   "execution_count": 7,
   "metadata": {},
   "outputs": [
    {
     "data": {
      "text/plain": [
       "'经过上述查询发现数值之间差异非常大，因此需要进行数据的差异化处理，这里进行数据的标准差标准化处理'"
      ]
     },
     "execution_count": 7,
     "metadata": {},
     "output_type": "execute_result"
    }
   ],
   "source": [
    "# 数据集的数值查询，确定是否需要进行数据预处理\n",
    "import numpy as np\n",
    "x_train.max()\n",
    "x_train.min()\n",
    "np.int32(x_train.max(axis=0))  # int32将数据转化为int32类型的数据，axis=0在这里表示输出每一列的最大值\n",
    "\"\"\"经过上述查询发现数值之间差异非常大，因此需要进行数据的差异化处理，这里进行数据的标准差标准化处理\"\"\""
   ]
  },
  {
   "cell_type": "code",
   "execution_count": 8,
   "metadata": {},
   "outputs": [],
   "source": [
    "# 模型预处理(这里用标准差标准化的处理方法来处理数据集中数据数值差异过大的问题)\n",
    "from sklearn.preprocessing import StandardScaler\n",
    "model = StandardScaler().fit(x_train)\n",
    "x_train_ss = model.transform(x_train)\n",
    "x_test_ss = model.transform(x_test)"
   ]
  },
  {
   "cell_type": "code",
   "execution_count": 11,
   "metadata": {},
   "outputs": [
    {
     "data": {
      "text/plain": [
       "0.9824561403508771"
      ]
     },
     "execution_count": 11,
     "metadata": {},
     "output_type": "execute_result"
    }
   ],
   "source": [
    "# 分类模型构建\n",
    "from sklearn.svm import SVC  # 这里构建SVC分类模型\n",
    "model = SVC().fit(x_train_ss, y_train)  # 构建SVC模型，通过训练集的输入和输出来构建模型\n",
    "y_pre = model.predict(x_test_ss)  # predict用来预测并得到预测结果\n",
    "# score用来得到模型的构建分数，这里通过比较测试集的预测输出和真实输出来判断该模型的正确率从而决定是否要进行模型的优化，为1是最佳\n",
    "model.score(x_test_ss, y_test)  \n",
    "# score方法并不能很准确的判定模型的优劣，需要额外进行模型的优劣判定"
   ]
  },
  {
   "cell_type": "code",
   "execution_count": 12,
   "metadata": {},
   "outputs": [
    {
     "name": "stdout",
     "output_type": "stream",
     "text": [
      "1.0\n",
      "0.9710144927536232\n",
      "0.9852941176470589\n"
     ]
    },
    {
     "data": {
      "image/png": "[encoded data removed]",
      "text/plain": [
       "<Figure size 432x288 with 1 Axes>"
      ]
     },
     "metadata": {
      "needs_background": "light"
     },
     "output_type": "display_data"
    }
   ],
   "source": [
    "# 模型的评价\n",
    "\"\"\"ecall_score, precision_score, f1_score, roc_curve这4个方法可以来判断模型的优劣\"\"\"\n",
    "from sklearn.metrics import recall_score, precision_score, f1_score, roc_curve\n",
    "print(recall_score(y_test, y_pre))  # 这4个方法都是通过真实输出值和预测输出值来判断优劣，值越靠近1越好\n",
    "print(precision_score(y_test, y_pre))\n",
    "print(f1_score(y_test, y_pre))\n",
    "import matplotlib.pyplot as plt\n",
    "# fpr, tpr, thresholdss是roc_curve方法的三个返回结果\n",
    "fpr, tpr, thresholds = roc_curve(y_test, y_pre)\n",
    "# roc曲线越靠近y轴模型越优\n",
    "for i in range(2):\n",
    "    plt.plot(fpr, tpr)  # fpr, tpr作为roc曲线的横坐标和纵坐标\n",
    "    plt.plot(fpr, fpr)  # 基准线(就是y=x)用来判断模型是否有用，当roc曲线在对角线下方表示模型没用，在上方表示模型可用\n",
    "plt.show()"
   ]
  },
  {
   "cell_type": "code",
   "execution_count": null,
   "metadata": {},
   "outputs": [],
   "source": []
  }
 ],
 "metadata": {
  "kernelspec": {
   "display_name": "Python 3",
   "language": "python",
   "name": "python3"
  },
  "language_info": {
   "codemirror_mode": {
    "name": "ipython",
    "version": 3
   },
   "file_extension": ".py",
   "mimetype": "text/x-python",
   "name": "python",
   "nbconvert_exporter": "python",
   "pygments_lexer": "ipython3",
   "version": "3.7.6"
  }
 },
 "nbformat": 4,
 "nbformat_minor": 4
}
