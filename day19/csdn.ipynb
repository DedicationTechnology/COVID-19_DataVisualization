{
 "cells": [
  {
   "cell_type": "code",
   "execution_count": 17,
   "metadata": {},
   "outputs": [],
   "source": [
    "from selenium import webdriver\n",
    "from lxml import etree\n",
    "import re\n",
    "import time"
   ]
  },
  {
   "cell_type": "code",
   "execution_count": 18,
   "metadata": {},
   "outputs": [],
   "source": [
    "driver = webdriver.Chrome()\n",
    "url = \"https://blog.csdn.net/IT_SoftEngineer\"\n",
    "driver.get(url)\n",
    "dom = etree.HTML(driver.page_source, etree.HTMLParser(encoding=\"utf-8\"))"
   ]
  },
  {
   "cell_type": "code",
   "execution_count": 19,
   "metadata": {},
   "outputs": [],
   "source": [
    "nature = dom.xpath(\"//span[@class='article-type type-1 float-none']/text()\")\n",
    "title = dom.xpath(\"//h4/a[@target='_blank']/text()\")\n",
    "href = dom.xpath(\"//p[@class='content']/a[@target='_blank']/@href\")"
   ]
  },
  {
   "cell_type": "code",
   "execution_count": 21,
   "metadata": {},
   "outputs": [
    {
     "data": {
      "text/plain": [
       "['什么是框架？框架的作用是什么？为什么要学习框架？',\n",
       " '黑苹果安装包（MaxOS）及教程——如何在非苹果电脑上安装MaxOS系统',\n",
       " 'selenium启动chrome时弹出设置页面:Windows Defender 防病毒要重置您的设置',\n",
       " '您使用的是不受支持的命令行标记:--ignore-certificate-errors',\n",
       " 'TypeError: add_yaxis() got an unexpected keyword argument ‘yaxis_data‘',\n",
       " 'AttributeError: ‘DatetimeIndex‘ object has no attribute ‘weekday_name‘',\n",
       " 'from sklearn.datasets import load_boston报错ImportError: DLL load failed: 找不到指定的程序',\n",
       " 'python中tsv文件的读取方法',\n",
       " 'matplotlib绘图时设置中文标题显示出错的问题',\n",
       " '执行load npz时报错：Object arrays cannot be loaded when allow_pickle=False解决方案',\n",
       " 'github+picgo+typora搭建免费图床',\n",
       " 'git中Updates were rejected because the tip of your current branch is behind解决方案',\n",
       " 'git中出现error: Your local changes to the following files would be overwritten by merge的解决方案',\n",
       " '墨墨背单词(最新无限单词版---持续更新)',\n",
       " '使用obs进行windows10屏幕投屏时出现黑屏情况解决方案',\n",
       " '最新国产操作系统uos一小时使用体验',\n",
       " '第六阶段：多任务',\n",
       " '文件夹下载器案例实战',\n",
       " '第五阶段：网络编程',\n",
       " '第四阶段：飞机大战项目实战',\n",
       " 'pygame插入图片后背景不显示图片',\n",
       " '第三阶段：面向对象',\n",
       " '第一阶段：Linux基础',\n",
       " '第二阶段：python基础',\n",
       " '使用tcp实现小型客服服务系统',\n",
       " '远程连接报错：connect to localhost port 22: Connection refused',\n",
       " '如何用手机连接没有wifi的打印机',\n",
       " '共享打印机出现0x00000569代码解决方案(亲测有效)',\n",
       " '虚拟机CentOS7下搭建hadoop集群（持续更新）',\n",
       " '软考是否有用？软考证书的价值有多大？为什么要软考？',\n",
       " 'Pokemon Go游戏开发教程(持续更新)',\n",
       " 'eclipse快捷操作（如何更加便捷的使用eclipse来编程：持续更新）',\n",
       " 'jdk+eclipse+mysql+navicat安装教程详解',\n",
       " 'MyBatis框架系统学习（持续更新）',\n",
       " '愤怒的小鸟游戏开发教程（持续更新）',\n",
       " 'unity实战——穿越火线',\n",
       " 'linux系统学习(持续更新)',\n",
       " 'unity系统学习——UI学习(持续更新)',\n",
       " 'c#重点提炼(持续更新)',\n",
       " '从实战学习unity开发——贪吃球实战教程(持续更新)']"
      ]
     },
     "execution_count": 21,
     "metadata": {},
     "output_type": "execute_result"
    }
   ],
   "source": [
    "title = [i.strip() for i in title if i.strip() != \"\"]\n",
    "title"
   ]
  },
  {
   "cell_type": "code",
   "execution_count": 5,
   "metadata": {
    "collapsed": true
   },
   "outputs": [
    {
     "ename": "KeyboardInterrupt",
     "evalue": "",
     "output_type": "error",
     "traceback": [
      "\u001b[1;31m---------------------------------------------------------------------------\u001b[0m",
      "\u001b[1;31mKeyboardInterrupt\u001b[0m                         Traceback (most recent call last)",
      "\u001b[1;32m<ipython-input-5-4ee1a47514ce>\u001b[0m in \u001b[0;36m<module>\u001b[1;34m\u001b[0m\n\u001b[0;32m      2\u001b[0m     \u001b[1;32mfor\u001b[0m \u001b[0murl1\u001b[0m \u001b[1;32min\u001b[0m \u001b[0mhref\u001b[0m\u001b[1;33m:\u001b[0m\u001b[1;33m\u001b[0m\u001b[1;33m\u001b[0m\u001b[0m\n\u001b[0;32m      3\u001b[0m         \u001b[0mdriver\u001b[0m\u001b[1;33m.\u001b[0m\u001b[0mget\u001b[0m\u001b[1;33m(\u001b[0m\u001b[0murl1\u001b[0m\u001b[1;33m)\u001b[0m\u001b[1;33m\u001b[0m\u001b[1;33m\u001b[0m\u001b[0m\n\u001b[1;32m----> 4\u001b[1;33m         \u001b[0mtime\u001b[0m\u001b[1;33m.\u001b[0m\u001b[0msleep\u001b[0m\u001b[1;33m(\u001b[0m\u001b[1;36m5\u001b[0m\u001b[1;33m)\u001b[0m\u001b[1;33m\u001b[0m\u001b[1;33m\u001b[0m\u001b[0m\n\u001b[0m",
      "\u001b[1;31mKeyboardInterrupt\u001b[0m: "
     ]
    }
   ],
   "source": [
    "while True:\n",
    "    for url1 in href:\n",
    "        driver.get(url1)\n",
    "        time.sleep(5)"
   ]
  },
  {
   "cell_type": "code",
   "execution_count": 15,
   "metadata": {},
   "outputs": [
    {
     "name": "stdout",
     "output_type": "stream",
     "text": [
      "------------------------connect---------------------------\n",
      "该代理IP  有效\n",
      "-------------------------end----------------------------\n"
     ]
    }
   ],
   "source": [
    "import telnetlib\n",
    "print('------------------------connect---------------------------')\n",
    "# 连接Telnet服务器\n",
    "try:\n",
    "    tn = telnetlib.Telnet('211.147.226.4',port='8118',timeout=20)\n",
    "except:\n",
    "    print('该代理IP  无效')\n",
    "else:\n",
    "    print('该代理IP  有效')\n",
    " \n",
    "print('-------------------------end----------------------------')"
   ]
  },
  {
   "cell_type": "code",
   "execution_count": null,
   "metadata": {},
   "outputs": [],
   "source": []
  },
  {
   "cell_type": "code",
   "execution_count": null,
   "metadata": {},
   "outputs": [],
   "source": []
  }
 ],
 "metadata": {
  "kernelspec": {
   "display_name": "Python 3",
   "language": "python",
   "name": "python3"
  },
  "language_info": {
   "codemirror_mode": {
    "name": "ipython",
    "version": 3
   },
   "file_extension": ".py",
   "mimetype": "text/x-python",
   "name": "python",
   "nbconvert_exporter": "python",
   "pygments_lexer": "ipython3",
   "version": "3.7.6"
  }
 },
 "nbformat": 4,
 "nbformat_minor": 4
}
