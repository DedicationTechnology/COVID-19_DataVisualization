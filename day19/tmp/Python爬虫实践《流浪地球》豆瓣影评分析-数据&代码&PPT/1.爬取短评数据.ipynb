{
 "cells": [
  {
   "cell_type": "code",
   "execution_count": 6,
   "metadata": {},
   "outputs": [],
   "source": [
    "def get_web_data(dom=None, cookies=None):\n",
    "    '''\n",
    "    获取每页评论数据\n",
    "    '''\n",
    "    # //这里可以表示多个目录，当有多个目录时可以用//来代替，@class=\"comment-item\"表示标签下的特定属性，这里用于定位特定的div标签，text()表示标签的文本信息\n",
    "    names = dom.xpath('//div[@class=\"comment-item\"]//span[@class=\"comment-info\"]/a/text()')           # 用户名\n",
    "    ratings = dom.xpath('//div[@class=\"comment-item\"]//span[@class=\"comment-info\"]/span[2]/@class')   # 评分\n",
    "    times = dom.xpath('//div[@class=\"comment-item\"]//span[@class=\"comment-info\"]/span[@class=\"comment-time \"]/@title')     # 评论发布时间\n",
    "    message = dom.xpath('//div[@class=\"comment-item\"]//div[@class=\"comment\"]//span[@class=\"short\"]/text()')    # 短评正文\n",
    "    user_url = dom.xpath('//div[@class=\"comment-item\"]//span[@class=\"comment-info\"]/a/@href')           # 用户主页网址\n",
    "    votes = dom.xpath('//div[@class=\"comment-item\"]//div[@class=\"comment\"]//span[@class=\"votes\"]/text()')    # 赞同数量\n",
    "    cities = []\n",
    "    load_times = []\n",
    "    for i in user_url:\n",
    "        web_data = requests.get(i, cookies=cookies)\n",
    "        dom_url = etree.HTML(web_data.text, etree.HTMLParser(encoding='utf-8'))\n",
    "        address = dom_url.xpath('//div[@class=\"basic-info\"]//div[@class=\"user-info\"]/a/text()')                    # 用户居住地\n",
    "        load_time = dom_url.xpath('//div[@class=\"basic-info\"]//div[@class=\"user-info\"]/div[@class=\"pl\"]/text()')   # 用户入会时间\n",
    "        cities.append(address)\n",
    "        load_times.append(load_ time)\n",
    "        time.sleep(3)\n",
    "    ratings = ['' if 'rating' not in i else int(re.findall('\\d{2}', i)[0]) for i in ratings]   # 评分数据整理\n",
    "    load_times = ['' if i == [] else i[1].strip()[:-2] for i in load_times]   # 入会数据整理\n",
    "    cities = ['' if i == [] else i[0] for i in cities]   # 居住地数据整理\n",
    "    data = pd.DataFrame({\n",
    "        '用户名': names,\n",
    "        '居住城市': cities,\n",
    "        '加入时间': load_times,\n",
    "        '评分': ratings,\n",
    "        '发表时间': times,\n",
    "        '短评正文': message,\n",
    "        '赞同数量': votes\n",
    "    })\n",
    "    return data"
   ]
  },
  {
   "cell_type": "code",
   "execution_count": 7,
   "metadata": {},
   "outputs": [],
   "source": [
    "from selenium import webdriver\n",
    "from lxml import etree\n",
    "import requests\n",
    "import pandas as pd\n",
    "import time\n",
    "from selenium.webdriver.common.by import By\n",
    "from selenium.webdriver.support.ui import WebDriverWait\n",
    "from selenium.webdriver.support import expected_conditions as EC\n",
    "import re"
   ]
  },
  {
   "cell_type": "code",
   "execution_count": 8,
   "metadata": {},
   "outputs": [],
   "source": [
    "driver = webdriver.Chrome()   # 启动chrome浏览器\n",
    "url = 'https://movie.douban.com/subject/26266893/comments?status=P'\n",
    "driver.get(url)   # 获取网页源码数据"
   ]
  },
  {
   "cell_type": "code",
   "execution_count": 9,
   "metadata": {},
   "outputs": [],
   "source": [
    "# 通过cookies来进行登录操作\n",
    "cookies_str = 'bid=-KCZGWlMR4I; ap_v=0,6.0; dbcl2=\"219869902:Xw87UAj00d8\"; ck=epfK; _pk_ref.100001.8cb4=%5B%22%22%2C%22%22%2C1595579801%2C%22https%3A%2F%2Faccounts.douban.com%2Fpassport%2Fregister%22%5D; _pk_id.100001.8cb4=969a41245f42aff2.1595579801.1.1595579801.1595579801.; _pk_ses.100001.8cb4=*; push_noty_num=0; push_doumail_num=0'\n",
    "cookies = {}\n",
    "for i in cookies_str.split(';'):  # 将cookies整理成所需格式，这里整理为字典格式\n",
    "    k, v = i.split('=', 1)  # 1表示只按照第一个等号进行拆分，后面如果还有等号则不进行拆分\n",
    "    cookies[k] = v"
   ]
  },
  {
   "cell_type": "code",
   "execution_count": 10,
   "metadata": {},
   "outputs": [
    {
     "ename": "AttributeError",
     "evalue": "'NoneType' object has no attribute 'xpath'",
     "output_type": "error",
     "traceback": [
      "\u001b[1;31m---------------------------------------------------------------------------\u001b[0m",
      "\u001b[1;31mAttributeError\u001b[0m                            Traceback (most recent call last)",
      "\u001b[1;32m<ipython-input-10-4bbb9940fc53>\u001b[0m in \u001b[0;36m<module>\u001b[1;34m\u001b[0m\n\u001b[0;32m     11\u001b[0m \u001b[1;33m\u001b[0m\u001b[0m\n\u001b[0;32m     12\u001b[0m     \u001b[0mdom\u001b[0m \u001b[1;33m=\u001b[0m \u001b[0metree\u001b[0m\u001b[1;33m.\u001b[0m\u001b[0mHTML\u001b[0m\u001b[1;33m(\u001b[0m\u001b[0mdriver\u001b[0m\u001b[1;33m.\u001b[0m\u001b[0mpage_source\u001b[0m\u001b[1;33m,\u001b[0m \u001b[0metree\u001b[0m\u001b[1;33m.\u001b[0m\u001b[0mHTMLParser\u001b[0m\u001b[1;33m(\u001b[0m\u001b[0mencoding\u001b[0m\u001b[1;33m=\u001b[0m\u001b[1;34m'utf-8'\u001b[0m\u001b[1;33m)\u001b[0m\u001b[1;33m)\u001b[0m   \u001b[1;31m# 网页源码解析，得到一个dom文件\u001b[0m\u001b[1;33m\u001b[0m\u001b[1;33m\u001b[0m\u001b[0m\n\u001b[1;32m---> 13\u001b[1;33m     \u001b[0mdata\u001b[0m \u001b[1;33m=\u001b[0m \u001b[0mget_web_data\u001b[0m\u001b[1;33m(\u001b[0m\u001b[0mdom\u001b[0m\u001b[1;33m=\u001b[0m\u001b[0mdom\u001b[0m\u001b[1;33m,\u001b[0m \u001b[0mcookies\u001b[0m\u001b[1;33m=\u001b[0m\u001b[0mcookies\u001b[0m\u001b[1;33m)\u001b[0m\u001b[1;33m\u001b[0m\u001b[1;33m\u001b[0m\u001b[0m\n\u001b[0m\u001b[0;32m     14\u001b[0m     \u001b[0mall_data\u001b[0m \u001b[1;33m=\u001b[0m \u001b[0mpd\u001b[0m\u001b[1;33m.\u001b[0m\u001b[0mconcat\u001b[0m\u001b[1;33m(\u001b[0m\u001b[1;33m[\u001b[0m\u001b[0mall_data\u001b[0m\u001b[1;33m,\u001b[0m \u001b[0mdata\u001b[0m\u001b[1;33m]\u001b[0m\u001b[1;33m,\u001b[0m \u001b[0maxis\u001b[0m\u001b[1;33m=\u001b[0m\u001b[1;36m0\u001b[0m\u001b[1;33m)\u001b[0m\u001b[1;33m\u001b[0m\u001b[1;33m\u001b[0m\u001b[0m\n\u001b[0;32m     15\u001b[0m \u001b[1;33m\u001b[0m\u001b[0m\n",
      "\u001b[1;32m<ipython-input-6-b48539f6d162>\u001b[0m in \u001b[0;36mget_web_data\u001b[1;34m(dom, cookies)\u001b[0m\n\u001b[0;32m     14\u001b[0m         \u001b[0mweb_data\u001b[0m \u001b[1;33m=\u001b[0m \u001b[0mrequests\u001b[0m\u001b[1;33m.\u001b[0m\u001b[0mget\u001b[0m\u001b[1;33m(\u001b[0m\u001b[0mi\u001b[0m\u001b[1;33m,\u001b[0m \u001b[0mcookies\u001b[0m\u001b[1;33m=\u001b[0m\u001b[0mcookies\u001b[0m\u001b[1;33m)\u001b[0m\u001b[1;33m\u001b[0m\u001b[1;33m\u001b[0m\u001b[0m\n\u001b[0;32m     15\u001b[0m         \u001b[0mdom_url\u001b[0m \u001b[1;33m=\u001b[0m \u001b[0metree\u001b[0m\u001b[1;33m.\u001b[0m\u001b[0mHTML\u001b[0m\u001b[1;33m(\u001b[0m\u001b[0mweb_data\u001b[0m\u001b[1;33m.\u001b[0m\u001b[0mtext\u001b[0m\u001b[1;33m,\u001b[0m \u001b[0metree\u001b[0m\u001b[1;33m.\u001b[0m\u001b[0mHTMLParser\u001b[0m\u001b[1;33m(\u001b[0m\u001b[0mencoding\u001b[0m\u001b[1;33m=\u001b[0m\u001b[1;34m'utf-8'\u001b[0m\u001b[1;33m)\u001b[0m\u001b[1;33m)\u001b[0m\u001b[1;33m\u001b[0m\u001b[1;33m\u001b[0m\u001b[0m\n\u001b[1;32m---> 16\u001b[1;33m         \u001b[0maddress\u001b[0m \u001b[1;33m=\u001b[0m \u001b[0mdom_url\u001b[0m\u001b[1;33m.\u001b[0m\u001b[0mxpath\u001b[0m\u001b[1;33m(\u001b[0m\u001b[1;34m'//div[@class=\"basic-info\"]//div[@class=\"user-info\"]/a/text()'\u001b[0m\u001b[1;33m)\u001b[0m                    \u001b[1;31m# 用户居住地\u001b[0m\u001b[1;33m\u001b[0m\u001b[1;33m\u001b[0m\u001b[0m\n\u001b[0m\u001b[0;32m     17\u001b[0m         \u001b[0mload_time\u001b[0m \u001b[1;33m=\u001b[0m \u001b[0mdom_url\u001b[0m\u001b[1;33m.\u001b[0m\u001b[0mxpath\u001b[0m\u001b[1;33m(\u001b[0m\u001b[1;34m'//div[@class=\"basic-info\"]//div[@class=\"user-info\"]/div[@class=\"pl\"]/text()'\u001b[0m\u001b[1;33m)\u001b[0m   \u001b[1;31m# 用户入会时间\u001b[0m\u001b[1;33m\u001b[0m\u001b[1;33m\u001b[0m\u001b[0m\n\u001b[0;32m     18\u001b[0m         \u001b[0mcities\u001b[0m\u001b[1;33m.\u001b[0m\u001b[0mappend\u001b[0m\u001b[1;33m(\u001b[0m\u001b[0maddress\u001b[0m\u001b[1;33m)\u001b[0m\u001b[1;33m\u001b[0m\u001b[1;33m\u001b[0m\u001b[0m\n",
      "\u001b[1;31mAttributeError\u001b[0m: 'NoneType' object has no attribute 'xpath'"
     ]
    }
   ],
   "source": [
    "# 对所有页面进行数据爬取及解析操作，并进行数据保存\n",
    "all_data = pd.DataFrame()  # 用于将所有清洗好的数据加载到数据框内(每清洗一页数据就加载一夜数据)\n",
    "wait = WebDriverWait(driver, 20)  # 设置网页加载等待时间，用于实现如果在规定的时间内网页没有加载进来则报错\n",
    "# 由于要爬取的网站有反爬虫的机制，所以要添加header属性，不添加会返回418\n",
    "header = {\"User-Agent\":\"Mozilla/5.0 (Windows NT 10.0; Win64; x64) AppleWebKit/537.36 (KHTML, like Gecko) Chrome/84.0.4147.89 Safari/537.36\"}\n",
    "while True:\n",
    "    \n",
    "    wait.until(  # 这里用网页加载等待时间来判定一个网页是否加载进来\n",
    "        EC.element_to_be_clickable(   # 通过该项条件确认网页是否已经加载进来,防止断网导致加载不成功\n",
    "            (By.CSS_SELECTOR, '#comments > div:nth-child(20) > div.comment > h3 > span.comment-info > a') # 当前页最后一个“用户”按钮是否可以点击\n",
    "        )  # 如果在规定的时间内不能加载网页则终止循环操作\n",
    "    )\n",
    "    \n",
    "    dom = etree.HTML(driver.page_source, etree.HTMLParser(encoding='utf-8'))   # 网页源码解析，得到一个dom文件\n",
    "    data = get_web_data(dom=dom, cookies=cookies)\n",
    "    all_data = pd.concat([all_data, data], axis=0)  # 将每一页的获取到的数据进行拼接\n",
    "    # 在评论的最后一页中下一页按钮是无法点击的，同时在源码中没有selector，所以通过查找来决定循环的跳出\n",
    "    if driver.find_element_by_css_selector('#paginator > a.next')==[]:   # 判定是否还有“后页”按钮\n",
    "        break  \n",
    "    \n",
    "    confirm_bnt = wait.until(  # 点击按钮是否加载且是否可以被点击\n",
    "        EC.element_to_be_clickable(\n",
    "            (By.CSS_SELECTOR, '#paginator > a.next')\n",
    "        )\n",
    "    )\n",
    "    confirm_bnt.click()   # 执行翻页操作\n",
    "    "
   ]
  },
  {
   "cell_type": "code",
   "execution_count": 7,
   "metadata": {
    "scrolled": false
   },
   "outputs": [],
   "source": [
    "all_data.to_csv('douban111.csv', index=None, encoding='GB18030')   # 将数据以csv文件的方式写出"
   ]
  },
  {
   "cell_type": "code",
   "execution_count": 6,
   "metadata": {},
   "outputs": [
    {
     "data": {
      "text/plain": [
       "(500, 7)"
      ]
     },
     "execution_count": 6,
     "metadata": {},
     "output_type": "execute_result"
    }
   ],
   "source": [
    "all_data.shape"
   ]
  },
  {
   "cell_type": "code",
   "execution_count": null,
   "metadata": {},
   "outputs": [],
   "source": []
  }
 ],
 "metadata": {
  "kernelspec": {
   "display_name": "Python 3",
   "language": "python",
   "name": "python3"
  },
  "language_info": {
   "codemirror_mode": {
    "name": "ipython",
    "version": 3
   },
   "file_extension": ".py",
   "mimetype": "text/x-python",
   "name": "python",
   "nbconvert_exporter": "python",
   "pygments_lexer": "ipython3",
   "version": "3.7.6"
  }
 },
 "nbformat": 4,
 "nbformat_minor": 2
}
