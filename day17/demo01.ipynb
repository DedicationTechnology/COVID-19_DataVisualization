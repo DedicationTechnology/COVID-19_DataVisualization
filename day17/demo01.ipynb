{
 "cells": [
  {
   "cell_type": "markdown",
   "metadata": {},
   "source": [
    "#### 逆向分析爬取动态网页"
   ]
  },
  {
   "cell_type": "markdown",
   "metadata": {},
   "source": [
    "##### 步骤：\n",
    "1. 对于网页启用谷歌开发者工具(F12)\n",
    "2. 点击Network，然后刷新页面，在ALL下选择按照Size进行排序(点击Size即可进行排序，然后从数值比较大的中选择(一般数值小的不是我们要的内容))\n",
    "3. 挑选可能是我们想要爬取的信息然后右击在新标签页打开，通过对比判断是否是我们要爬取的内容\n",
    "4. 将新打开的标签页的网址作为我们要爬取的网址"
   ]
  },
  {
   "cell_type": "code",
   "execution_count": 18,
   "metadata": {},
   "outputs": [
    {
     "data": {
      "text/plain": [
       "{'data': [{'picPath': 'http://47.93.163.221:8084/uploadimg/Material/978-7-115-52792-9/72jpg/52792_s300.jpg',\n",
       "   'bookName': 'Spring实战 第5版',\n",
       "   'bookId': 'c2fe922a-3b5f-461d-a77b-cdd43005cd7a'},\n",
       "  {'picPath': 'http://47.93.163.221:8084/uploadimg/Material/978-7-115-52575-8/72jpg/52575_s300.jpg',\n",
       "   'bookName': '游戏开发 世嘉新人培训教材',\n",
       "   'bookId': '4b3142a0-b707-4662-ad65-ccf9ec38b1ac'},\n",
       "  {'picPath': 'http://47.93.163.221:8084/uploadimg/Material/978-7-115-52177-4/72jpg/52177_s300.jpg',\n",
       "   'bookName': '和秋叶一起学Excel（第2版）',\n",
       "   'bookId': '5df872c0-96d8-4dae-b0d1-7dbbb3fb6edc'},\n",
       "  {'picPath': 'http://47.93.163.221:8084/uploadimg/Material/978-7-115-52413-3/72jpg/52413_s300.jpg',\n",
       "   'bookName': '代码整洁之道',\n",
       "   'bookId': 'de6bdbe9-7d58-4fd0-a91d-407640f32555'},\n",
       "  {'picPath': 'http://47.93.163.221:8084/uploadimg/Material/978-7-115-53453-8/72jpg/53453_s300.jpg',\n",
       "   'bookName': '软技能2 软件开发者职业生涯指南',\n",
       "   'bookId': '2f7eaa94-f2e2-4780-aed9-5f3f8d3e990b'},\n",
       "  {'picPath': 'http://47.93.163.221:8084/uploadimg/Material/978-7-115-52596-3/72jpg/52596_s300.jpg',\n",
       "   'bookName': '说服力 工作型PPT该这样做',\n",
       "   'bookId': '3665e04c-aaf2-443e-ae92-b1a6c2501ee6'},\n",
       "  {'picPath': 'http://47.93.163.221:8084/uploadimg/Material/978-7-115-53797-3/72jpg/53797_s300.jpg',\n",
       "   'bookName': '数学之美 第三版',\n",
       "   'bookId': 'bd28df41-e1e9-499d-9672-6e31bdaba7f4'},\n",
       "  {'picPath': 'http://47.93.163.221:8084/uploadimg/Material/978-7-115-52483-6/72jpg/52483_s300.jpg',\n",
       "   'bookName': '第一行代码 Android 第3版',\n",
       "   'bookId': '940ecc49-d921-4ad7-8d5d-c54077cfc637'}],\n",
       " 'msg': '返回数据成功！',\n",
       " 'success': True}"
      ]
     },
     "execution_count": 18,
     "metadata": {},
     "output_type": "execute_result"
    }
   ],
   "source": [
    "import requests\n",
    "import json\n",
    "import chardet\n",
    "url = \"https://www.ptpress.com.cn/recommendBook/getRecommendBookListForPortal?bookTagId=2725fe7b-b2c2-4769-8f6f-c95f04c70275\"\n",
    "rq = requests.get(url)\n",
    "data = json.loads(rq.content.decode(chardet.detect(rq.content)[\"encoding\"]))  # 自动识别编码格式并赋值编码格式\n",
    "# 因为返回的为一个json格式，所以用loads方法将json文件转换为字典\n",
    "data"
   ]
  },
  {
   "cell_type": "code",
   "execution_count": 23,
   "metadata": {
    "collapsed": true
   },
   "outputs": [
    {
     "data": {
      "text/plain": [
       "['c2fe922a-3b5f-461d-a77b-cdd43005cd7a',\n",
       " '4b3142a0-b707-4662-ad65-ccf9ec38b1ac',\n",
       " '5df872c0-96d8-4dae-b0d1-7dbbb3fb6edc',\n",
       " 'de6bdbe9-7d58-4fd0-a91d-407640f32555',\n",
       " '2f7eaa94-f2e2-4780-aed9-5f3f8d3e990b',\n",
       " '3665e04c-aaf2-443e-ae92-b1a6c2501ee6',\n",
       " 'bd28df41-e1e9-499d-9672-6e31bdaba7f4',\n",
       " '940ecc49-d921-4ad7-8d5d-c54077cfc637']"
      ]
     },
     "execution_count": 23,
     "metadata": {},
     "output_type": "execute_result"
    }
   ],
   "source": [
    "# 提取封面、书名、id\n",
    "picture = [i[\"picPath\"] for i in data[\"data\"]]\n",
    "name = [i[\"bookName\"] for i in data[\"data\"]]\n",
    "id = [i[\"bookId\"] for i in data[\"data\"]]"
   ]
  },
  {
   "cell_type": "code",
   "execution_count": 24,
   "metadata": {},
   "outputs": [
    {
     "data": {
      "text/html": [
       "<div>\n",
       "<style scoped>\n",
       "    .dataframe tbody tr th:only-of-type {\n",
       "        vertical-align: middle;\n",
       "    }\n",
       "\n",
       "    .dataframe tbody tr th {\n",
       "        vertical-align: top;\n",
       "    }\n",
       "\n",
       "    .dataframe thead th {\n",
       "        text-align: right;\n",
       "    }\n",
       "</style>\n",
       "<table border=\"1\" class=\"dataframe\">\n",
       "  <thead>\n",
       "    <tr style=\"text-align: right;\">\n",
       "      <th></th>\n",
       "      <th>封面地址</th>\n",
       "      <th>书名</th>\n",
       "      <th>图书id</th>\n",
       "    </tr>\n",
       "  </thead>\n",
       "  <tbody>\n",
       "    <tr>\n",
       "      <th>0</th>\n",
       "      <td>http://47.93.163.221:8084/uploadimg/Material/9...</td>\n",
       "      <td>Spring实战 第5版</td>\n",
       "      <td>c2fe922a-3b5f-461d-a77b-cdd43005cd7a</td>\n",
       "    </tr>\n",
       "    <tr>\n",
       "      <th>1</th>\n",
       "      <td>http://47.93.163.221:8084/uploadimg/Material/9...</td>\n",
       "      <td>游戏开发 世嘉新人培训教材</td>\n",
       "      <td>4b3142a0-b707-4662-ad65-ccf9ec38b1ac</td>\n",
       "    </tr>\n",
       "    <tr>\n",
       "      <th>2</th>\n",
       "      <td>http://47.93.163.221:8084/uploadimg/Material/9...</td>\n",
       "      <td>和秋叶一起学Excel（第2版）</td>\n",
       "      <td>5df872c0-96d8-4dae-b0d1-7dbbb3fb6edc</td>\n",
       "    </tr>\n",
       "    <tr>\n",
       "      <th>3</th>\n",
       "      <td>http://47.93.163.221:8084/uploadimg/Material/9...</td>\n",
       "      <td>代码整洁之道</td>\n",
       "      <td>de6bdbe9-7d58-4fd0-a91d-407640f32555</td>\n",
       "    </tr>\n",
       "    <tr>\n",
       "      <th>4</th>\n",
       "      <td>http://47.93.163.221:8084/uploadimg/Material/9...</td>\n",
       "      <td>软技能2 软件开发者职业生涯指南</td>\n",
       "      <td>2f7eaa94-f2e2-4780-aed9-5f3f8d3e990b</td>\n",
       "    </tr>\n",
       "    <tr>\n",
       "      <th>5</th>\n",
       "      <td>http://47.93.163.221:8084/uploadimg/Material/9...</td>\n",
       "      <td>说服力 工作型PPT该这样做</td>\n",
       "      <td>3665e04c-aaf2-443e-ae92-b1a6c2501ee6</td>\n",
       "    </tr>\n",
       "    <tr>\n",
       "      <th>6</th>\n",
       "      <td>http://47.93.163.221:8084/uploadimg/Material/9...</td>\n",
       "      <td>数学之美 第三版</td>\n",
       "      <td>bd28df41-e1e9-499d-9672-6e31bdaba7f4</td>\n",
       "    </tr>\n",
       "    <tr>\n",
       "      <th>7</th>\n",
       "      <td>http://47.93.163.221:8084/uploadimg/Material/9...</td>\n",
       "      <td>第一行代码 Android 第3版</td>\n",
       "      <td>940ecc49-d921-4ad7-8d5d-c54077cfc637</td>\n",
       "    </tr>\n",
       "  </tbody>\n",
       "</table>\n",
       "</div>"
      ],
      "text/plain": [
       "                                                封面地址                 书名  \\\n",
       "0  http://47.93.163.221:8084/uploadimg/Material/9...       Spring实战 第5版   \n",
       "1  http://47.93.163.221:8084/uploadimg/Material/9...      游戏开发 世嘉新人培训教材   \n",
       "2  http://47.93.163.221:8084/uploadimg/Material/9...   和秋叶一起学Excel（第2版）   \n",
       "3  http://47.93.163.221:8084/uploadimg/Material/9...             代码整洁之道   \n",
       "4  http://47.93.163.221:8084/uploadimg/Material/9...   软技能2 软件开发者职业生涯指南   \n",
       "5  http://47.93.163.221:8084/uploadimg/Material/9...     说服力 工作型PPT该这样做   \n",
       "6  http://47.93.163.221:8084/uploadimg/Material/9...           数学之美 第三版   \n",
       "7  http://47.93.163.221:8084/uploadimg/Material/9...  第一行代码 Android 第3版   \n",
       "\n",
       "                                   图书id  \n",
       "0  c2fe922a-3b5f-461d-a77b-cdd43005cd7a  \n",
       "1  4b3142a0-b707-4662-ad65-ccf9ec38b1ac  \n",
       "2  5df872c0-96d8-4dae-b0d1-7dbbb3fb6edc  \n",
       "3  de6bdbe9-7d58-4fd0-a91d-407640f32555  \n",
       "4  2f7eaa94-f2e2-4780-aed9-5f3f8d3e990b  \n",
       "5  3665e04c-aaf2-443e-ae92-b1a6c2501ee6  \n",
       "6  bd28df41-e1e9-499d-9672-6e31bdaba7f4  \n",
       "7  940ecc49-d921-4ad7-8d5d-c54077cfc637  "
      ]
     },
     "execution_count": 24,
     "metadata": {},
     "output_type": "execute_result"
    }
   ],
   "source": [
    "import pandas as pd\n",
    "tmp = pd.DataFrame({\"封面地址\": picture, \"书名\": name, \"图书id\": id})"
   ]
  },
  {
   "cell_type": "code",
   "execution_count": null,
   "metadata": {},
   "outputs": [],
   "source": []
  }
 ],
 "metadata": {
  "kernelspec": {
   "display_name": "Python 3",
   "language": "python",
   "name": "python3"
  },
  "language_info": {
   "codemirror_mode": {
    "name": "ipython",
    "version": 3
   },
   "file_extension": ".py",
   "mimetype": "text/x-python",
   "name": "python",
   "nbconvert_exporter": "python",
   "pygments_lexer": "ipython3",
   "version": "3.7.6"
  }
 },
 "nbformat": 4,
 "nbformat_minor": 4
}
