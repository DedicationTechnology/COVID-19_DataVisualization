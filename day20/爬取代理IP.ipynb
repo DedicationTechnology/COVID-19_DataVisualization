{
 "cells": [
  {
   "cell_type": "code",
   "execution_count": 9,
   "metadata": {},
   "outputs": [],
   "source": [
    "import requests\n",
    "from bs4 import BeautifulSoup\n",
    "import random\n",
    " \n",
    "headers = {'User-Agent': 'Mozilla/5.0 (Windows NT 10.0; WOW64) AppleWebKit/537.36 (KHTML, like Gecko) Chrome/65.0.3325.146 Safari/537.36'}\n",
    " \n",
    "def xici_ip(page):\n",
    "    for num_page in range(1,page+1):\n",
    "        url_part = \"http://www.xiladaili.com/gaoni/\" # 爬取西刺代理的IP，此处选的是国内https\n",
    "        url = url_part + str(num_page)  # 构建爬取的页面URL\n",
    "        r = requests.get(url, headers=headers)\n",
    "        if r.status_code == 200:\n",
    "            soup = BeautifulSoup(r.text,'lxml')\n",
    "            trs = soup.find_all('tr')\n",
    "            for i in range(1,len(trs)):\n",
    "                tr = trs[i]\n",
    "                tds = tr.find_all('td')\n",
    "                ip_item = tds[0].text\n",
    "                # print('抓取第'+ str(page) + '页第' + str(i) +'个：' + ip_item)\n",
    "                with open(r'E:\\ip\\ip.txt', 'a', encoding='utf-8') as f:\n",
    "                    f.writelines(ip_item + '\\n')\n",
    "                # time.sleep(1)\n",
    "            return ('存储成功')\n",
    " \n",
    "def get_ip():\n",
    "    with open(r'E:\\ip\\ip.txt', 'r', encoding='utf-8') as f:\n",
    "        lines = f.readlines()\n",
    "        return random.choice(lines)\n",
    " \n",
    "def check_ip():\n",
    "    proxies = {'HTTPS': 'HTTPS://' + get_ip().replace('\\n', '')}\n",
    "    try:\n",
    "        r = requests.get('http://httpbin.org/ip', headers=headers, proxies=proxies, timeout=10)\n",
    "        if r.status_code == 200:\n",
    "            return proxies\n",
    "    except Exception as e:\n",
    "        print(e)\n",
    " \n",
    "def main():\n",
    "    xici_ip(1)\n",
    "    try:\n",
    "        return check_ip()\n",
    "    except Exception as e:\n",
    "        print(e)\n",
    "        check_ip()\n",
    " \n",
    "if __name__ == '__main__':\n",
    "    main()"
   ]
  },
  {
   "cell_type": "code",
   "execution_count": null,
   "metadata": {},
   "outputs": [],
   "source": []
  },
  {
   "cell_type": "code",
   "execution_count": null,
   "metadata": {},
   "outputs": [],
   "source": []
  }
 ],
 "metadata": {
  "kernelspec": {
   "display_name": "Python 3",
   "language": "python",
   "name": "python3"
  },
  "language_info": {
   "codemirror_mode": {
    "name": "ipython",
    "version": 3
   },
   "file_extension": ".py",
   "mimetype": "text/x-python",
   "name": "python",
   "nbconvert_exporter": "python",
   "pygments_lexer": "ipython3",
   "version": "3.7.6"
  }
 },
 "nbformat": 4,
 "nbformat_minor": 4
}
