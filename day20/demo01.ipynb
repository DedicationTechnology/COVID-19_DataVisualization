{
 "cells": [
  {
   "cell_type": "code",
   "execution_count": null,
   "metadata": {},
   "outputs": [],
   "source": [
    "# 查询代理ip是否有效\n",
    "import telnetlib\n",
    "print('------------------------connect---------------------------')\n",
    "# 连接Telnet服务器\n",
    "try:\n",
    "    tn = telnetlib.Telnet('211.147.226.4',port='8118',timeout=20)\n",
    "except:\n",
    "    print('该代理IP  无效')\n",
    "else:\n",
    "    print('该代理IP  有效')\n",
    " \n",
    "print('-------------------------end----------------------------')"
   ]
  }
 ],
 "metadata": {
  "kernelspec": {
   "display_name": "Python 3",
   "language": "python",
   "name": "python3"
  },
  "language_info": {
   "codemirror_mode": {
    "name": "ipython",
    "version": 3
   },
   "file_extension": ".py",
   "mimetype": "text/x-python",
   "name": "python",
   "nbconvert_exporter": "python",
   "pygments_lexer": "ipython3",
   "version": "3.7.6"
  }
 },
 "nbformat": 4,
 "nbformat_minor": 4
}
