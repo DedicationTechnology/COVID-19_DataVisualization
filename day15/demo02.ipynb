{
 "cells": [
  {
   "cell_type": "markdown",
   "metadata": {},
   "source": [
    "#### 正则表达式的使用"
   ]
  },
  {
   "cell_type": "code",
   "execution_count": 9,
   "metadata": {},
   "outputs": [
    {
     "data": {
      "text/plain": [
       "'1. A  sentence. - 2. Another tiny sentence. '"
      ]
     },
     "execution_count": 9,
     "metadata": {},
     "output_type": "execute_result"
    }
   ],
   "source": [
    "import re  # 使用正则需要导入的库\n",
    "\n",
    "string = '1. A small sentence. - 2. Another tiny sentence. '\n",
    "# findall方法可以寻找指定的内容，这里为寻找string下的sentece，可以返回要查找的内容，如果有多个都会返回，返回的类型是一个列表\n",
    "# re.findall('sentence', string)\n",
    "# search方法可以寻找指定的内容，这里为寻找string下的sentece，可以返回要查找的内容(但只会返回第一个要查找的内容，并返回指定的位置信息)表\n",
    "# re.search('sentence', string)\n",
    "# sub方法可以用于替换指定的内容，三个属性分别为被替换掉的内容、替换为的内容、替换的文件\n",
    "re.sub(pattern='small', repl='large', string=string)  \n",
    "re.sub(pattern='small', repl='', string=string)"
   ]
  },
  {
   "cell_type": "code",
   "execution_count": 23,
   "metadata": {},
   "outputs": [],
   "source": [
    "string = 'small smell smll smsmll sm3ll sm.ll sm?ll sm\\nll sm\\tll sm-ll sm123ll'\n",
    "\n",
    "# re.findall('sm.ll', string)  # 这里的.表示一个除\\n任意字符，这里查找sm开头，ll结尾且中间一个字符为任意的字符，但.不能替换\\n\n",
    "# re.findall('sm[aesdbf]ll', string)  # [asdbf]这里[]内的字符都可以被匹配\n",
    "# re.findall('sm[a-zA-Z0-9]ll', string)  # 这里表示匹配所有的小写字母、大写字母就以及0~9的数字\n",
    "# re.findall('sm\\.ll', string)  # \\.表示.\n",
    "# re.findall('sm[.\\- ?]ll', string)  # 如果要匹配-这个字符，也要用\\-来表示\n",
    "# re.findall('small|smell', string)  # |表示或者的意思\n",
    "# re.findall('sm\\wll', string)  # \\w表示所有数字和字母的集合"
   ]
  },
  {
   "cell_type": "code",
   "execution_count": 33,
   "metadata": {
    "collapsed": true
   },
   "outputs": [
    {
     "data": {
      "text/plain": [
       "['sm?ll']"
      ]
     },
     "execution_count": 33,
     "metadata": {},
     "output_type": "execute_result"
    }
   ],
   "source": [
    "# re.findall('sm..ll', string)  # ..表示两个任意符号\n",
    "# re.findall('sm.{2}ll', string)  # .{2}表示.出现两次,等价于..\n",
    "# re.findall('sm.{1,2}ll', string)  # .{1,2}表示.出现一次或者两次\n",
    "# re.findall('sm.{1,}ll', string)  # .{1,}表示.出现一次以上\n",
    "# re.findall('sm.?ll', string)  # {0,1}  # .?表示.可以被匹配0次或者1次\n",
    "# print(re.findall('sm.+ll', string))  # {0,}  # .+表示.可以匹配任意次数\n",
    "# print(re.findall('sm.*ll', string))  # {1,}  # .*表示可以被匹配1次或者以上\n",
    "re.findall('sm\\?ll', string)  # \\?表示?"
   ]
  },
  {
   "cell_type": "code",
   "execution_count": null,
   "metadata": {},
   "outputs": [],
   "source": [
    "555-1239\n",
    "Moe Szyslak\n",
    "(636) 555-0113\n",
    "Burns, C.Montgomery\n",
    "555-6542\n",
    "Rev. Timothy Lovejoy\n",
    "555 8904\n",
    "Ned Flanders\n",
    "636-555-3226\n",
    "Simpson,Homer\n",
    "5553642\n",
    "Dr. Julius Hibbert"
   ]
  },
  {
   "cell_type": "code",
   "execution_count": 39,
   "metadata": {},
   "outputs": [
    {
     "data": {
      "text/html": [
       "<div>\n",
       "<style scoped>\n",
       "    .dataframe tbody tr th:only-of-type {\n",
       "        vertical-align: middle;\n",
       "    }\n",
       "\n",
       "    .dataframe tbody tr th {\n",
       "        vertical-align: top;\n",
       "    }\n",
       "\n",
       "    .dataframe thead th {\n",
       "        text-align: right;\n",
       "    }\n",
       "</style>\n",
       "<table border=\"1\" class=\"dataframe\">\n",
       "  <thead>\n",
       "    <tr style=\"text-align: right;\">\n",
       "      <th></th>\n",
       "      <th>Names</th>\n",
       "      <th>TelPhone</th>\n",
       "    </tr>\n",
       "  </thead>\n",
       "  <tbody>\n",
       "    <tr>\n",
       "      <th>0</th>\n",
       "      <td>Moe Szyslak</td>\n",
       "      <td>555-1239</td>\n",
       "    </tr>\n",
       "    <tr>\n",
       "      <th>1</th>\n",
       "      <td>Burns, C.Montgomery</td>\n",
       "      <td>(636) 555-0113</td>\n",
       "    </tr>\n",
       "    <tr>\n",
       "      <th>2</th>\n",
       "      <td>Rev. Timothy Lovejoy</td>\n",
       "      <td>555-6542</td>\n",
       "    </tr>\n",
       "    <tr>\n",
       "      <th>3</th>\n",
       "      <td>Ned Flanders</td>\n",
       "      <td>555 8904</td>\n",
       "    </tr>\n",
       "    <tr>\n",
       "      <th>4</th>\n",
       "      <td>Simpson,Homer</td>\n",
       "      <td>636-555-3226</td>\n",
       "    </tr>\n",
       "    <tr>\n",
       "      <th>5</th>\n",
       "      <td>Dr. Julius Hibbert</td>\n",
       "      <td>5553642</td>\n",
       "    </tr>\n",
       "  </tbody>\n",
       "</table>\n",
       "</div>"
      ],
      "text/plain": [
       "                  Names        TelPhone\n",
       "0           Moe Szyslak        555-1239\n",
       "1   Burns, C.Montgomery  (636) 555-0113\n",
       "2  Rev. Timothy Lovejoy        555-6542\n",
       "3          Ned Flanders        555 8904\n",
       "4         Simpson,Homer    636-555-3226\n",
       "5    Dr. Julius Hibbert         5553642"
      ]
     },
     "execution_count": 39,
     "metadata": {},
     "output_type": "execute_result"
    }
   ],
   "source": [
    "import pandas as pd\n",
    "rawdata = '555-1239Moe Szyslak(636) 555-0113Burns, C.Montgomery555-6542Rev. Timothy Lovejoy555 8904Ned Flanders636-555-3226Simpson,Homer5553642Dr. Julius Hibbert'\n",
    "names = re.findall('[A-Z][A-Za-z,\\. ]*', rawdata)  # 这里表示为第一个字母为大写字母,后面为大写字母/小写字母/空格/,/其它任意字符\n",
    "# \\(?表示(被匹配0次或者1次\n",
    "# [0-9]{0,3}表示0~9的数字出现0次或者3次\n",
    "# [ \\-]? 表示空格或者-匹配0次或者1次\n",
    "tels = re.findall('\\(?[0-9]{0,3}\\)?[ \\-]?[0-9]{3}[ \\-]?[0-9]{4}', rawdata)\n",
    "pd.DataFrame({'Names': names, 'TelPhone': tels})  # 设置数据框"
   ]
  },
  {
   "cell_type": "code",
   "execution_count": null,
   "metadata": {},
   "outputs": [],
   "source": []
  }
 ],
 "metadata": {
  "kernelspec": {
   "display_name": "Python 3",
   "language": "python",
   "name": "python3"
  },
  "language_info": {
   "codemirror_mode": {
    "name": "ipython",
    "version": 3
   },
   "file_extension": ".py",
   "mimetype": "text/x-python",
   "name": "python",
   "nbconvert_exporter": "python",
   "pygments_lexer": "ipython3",
   "version": "3.7.6"
  }
 },
 "nbformat": 4,
 "nbformat_minor": 4
}
